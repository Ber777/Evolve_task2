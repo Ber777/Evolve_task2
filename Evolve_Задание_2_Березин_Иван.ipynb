{
 "cells": [
  {
   "cell_type": "code",
   "execution_count": 54,
   "metadata": {},
   "outputs": [],
   "source": [
    "import random\n",
    "import string\n",
    "import pandas as pand\n",
    "import numpy as nump\n",
    "import scipy as sci\n",
    "import scipy.stats as stats\n",
    "from matplotlib import pyplot"
   ]
  },
  {
   "cell_type": "code",
   "execution_count": 55,
   "metadata": {},
   "outputs": [],
   "source": [
    "# Функции формирования 6 цифр ID клиента\n",
    "def random_numbers():\n",
    "       return ''.join(random.choice(string.digits) for x in range(6))"
   ]
  },
  {
   "cell_type": "code",
   "execution_count": 56,
   "metadata": {},
   "outputs": [],
   "source": [
    "# Функция получения случайного ID клиента (по правилам в исходном задании)\n",
    "def random_id():\n",
    "       return ''.join(random.choice(string.ascii_uppercase) for x in range(3)) + random_numbers()"
   ]
  },
  {
   "cell_type": "code",
   "execution_count": 57,
   "metadata": {},
   "outputs": [
    {
     "name": "stdout",
     "output_type": "stream",
     "text": [
      "VIL759858\n"
     ]
    }
   ],
   "source": [
    "print(random_id())"
   ]
  },
  {
   "cell_type": "code",
   "execution_count": 58,
   "metadata": {},
   "outputs": [],
   "source": [
    "# Формирование сырых данных (исходных по заданию) для увеличения выборки для последующего анализа\n",
    "# Диапазон объема транзакций в рублях от 1р. до 600тыс.\n",
    "N = 1000000 # Формирования записей 'транзакций' (ограничемся 1млн. строк)\n",
    "numb = []\n",
    "for i in range(N):\n",
    "    numb.append(str(i+6)+','+random_id()+','+str(random.randint(1,600000))+','+random.choice(['R','AF']))"
   ]
  },
  {
   "cell_type": "code",
   "execution_count": 59,
   "metadata": {},
   "outputs": [],
   "source": [
    "# Изначально имеется файл вида(по условию):\n",
    "# 1,ADF346274,1000,R\n",
    "# 2,JDY272800,600,AF\n",
    "# 3,ADF346274,2460,R\n",
    "# 4,TDG254776,4000,R\n",
    "# 5,RYE846234,70000,AF\n",
    "# Добавим заголовок \"numb,ID,Vrub,Seg\" в исходный файл для удобства дальнейшнего разбора нашего файла для анализа:\n",
    "line_index = 0\n",
    "lines = None\n",
    "with open('transactions.txt', 'r') as file_handler:\n",
    "    lines = file_handler.readlines()\n",
    "\n",
    "lines.insert(line_index, \"numb,ID,Vrub,Seg\"+'\\n')\n",
    "\n",
    "with open('transactions.txt', 'w') as file_handler:\n",
    "    file_handler.writelines(lines)"
   ]
  },
  {
   "cell_type": "code",
   "execution_count": 60,
   "metadata": {},
   "outputs": [],
   "source": [
    "# Запишем в наш исходный файл, сгенерированные, соответственно правилам задания, данные:\n",
    "with open(r\"transactions.txt\", \"a\") as file:\n",
    "    file.write('\\n')\n",
    "    for line in numb:\n",
    "        file.write(line + '\\n')"
   ]
  },
  {
   "cell_type": "code",
   "execution_count": 97,
   "metadata": {},
   "outputs": [
    {
     "data": {
      "text/html": [
       "<div>\n",
       "<style scoped>\n",
       "    .dataframe tbody tr th:only-of-type {\n",
       "        vertical-align: middle;\n",
       "    }\n",
       "\n",
       "    .dataframe tbody tr th {\n",
       "        vertical-align: top;\n",
       "    }\n",
       "\n",
       "    .dataframe thead th {\n",
       "        text-align: right;\n",
       "    }\n",
       "</style>\n",
       "<table border=\"1\" class=\"dataframe\">\n",
       "  <thead>\n",
       "    <tr style=\"text-align: right;\">\n",
       "      <th></th>\n",
       "      <th>numb</th>\n",
       "      <th>ID</th>\n",
       "      <th>Vrub</th>\n",
       "      <th>Seg</th>\n",
       "    </tr>\n",
       "  </thead>\n",
       "  <tbody>\n",
       "    <tr>\n",
       "      <th>0</th>\n",
       "      <td>1</td>\n",
       "      <td>ADF346274</td>\n",
       "      <td>1000</td>\n",
       "      <td>R</td>\n",
       "    </tr>\n",
       "    <tr>\n",
       "      <th>1</th>\n",
       "      <td>2</td>\n",
       "      <td>JDY272800</td>\n",
       "      <td>600</td>\n",
       "      <td>AF</td>\n",
       "    </tr>\n",
       "    <tr>\n",
       "      <th>2</th>\n",
       "      <td>3</td>\n",
       "      <td>ADF346274</td>\n",
       "      <td>2460</td>\n",
       "      <td>R</td>\n",
       "    </tr>\n",
       "    <tr>\n",
       "      <th>3</th>\n",
       "      <td>4</td>\n",
       "      <td>TDG254776</td>\n",
       "      <td>4000</td>\n",
       "      <td>R</td>\n",
       "    </tr>\n",
       "    <tr>\n",
       "      <th>4</th>\n",
       "      <td>5</td>\n",
       "      <td>RYE846234</td>\n",
       "      <td>70000</td>\n",
       "      <td>AF</td>\n",
       "    </tr>\n",
       "    <tr>\n",
       "      <th>5</th>\n",
       "      <td>6</td>\n",
       "      <td>EAM789233</td>\n",
       "      <td>560486</td>\n",
       "      <td>R</td>\n",
       "    </tr>\n",
       "    <tr>\n",
       "      <th>6</th>\n",
       "      <td>7</td>\n",
       "      <td>WOY783531</td>\n",
       "      <td>246724</td>\n",
       "      <td>R</td>\n",
       "    </tr>\n",
       "    <tr>\n",
       "      <th>7</th>\n",
       "      <td>8</td>\n",
       "      <td>ENA808770</td>\n",
       "      <td>6308</td>\n",
       "      <td>R</td>\n",
       "    </tr>\n",
       "    <tr>\n",
       "      <th>8</th>\n",
       "      <td>9</td>\n",
       "      <td>GCG946221</td>\n",
       "      <td>114011</td>\n",
       "      <td>R</td>\n",
       "    </tr>\n",
       "    <tr>\n",
       "      <th>9</th>\n",
       "      <td>10</td>\n",
       "      <td>XVZ754414</td>\n",
       "      <td>436073</td>\n",
       "      <td>AF</td>\n",
       "    </tr>\n",
       "  </tbody>\n",
       "</table>\n",
       "</div>"
      ],
      "text/plain": [
       "   numb         ID    Vrub Seg\n",
       "0     1  ADF346274    1000   R\n",
       "1     2  JDY272800     600  AF\n",
       "2     3  ADF346274    2460   R\n",
       "3     4  TDG254776    4000   R\n",
       "4     5  RYE846234   70000  AF\n",
       "5     6  EAM789233  560486   R\n",
       "6     7  WOY783531  246724   R\n",
       "7     8  ENA808770    6308   R\n",
       "8     9  GCG946221  114011   R\n",
       "9    10  XVZ754414  436073  AF"
      ]
     },
     "execution_count": 97,
     "metadata": {},
     "output_type": "execute_result"
    }
   ],
   "source": [
    "data = pand.read_csv('transactions.txt', sep=',', encoding='utf-8-sig')\n",
    "data.head(10)"
   ]
  },
  {
   "cell_type": "code",
   "execution_count": 98,
   "metadata": {},
   "outputs": [
    {
     "data": {
      "text/plain": [
       "(1000005, 4)"
      ]
     },
     "execution_count": 98,
     "metadata": {},
     "output_type": "execute_result"
    }
   ],
   "source": [
    "data.shape"
   ]
  },
  {
   "cell_type": "code",
   "execution_count": 99,
   "metadata": {},
   "outputs": [
    {
     "data": {
      "text/plain": [
       "Index(['numb', 'ID', 'Vrub', 'Seg'], dtype='object')"
      ]
     },
     "execution_count": 99,
     "metadata": {},
     "output_type": "execute_result"
    }
   ],
   "source": [
    "data.columns"
   ]
  },
  {
   "cell_type": "code",
   "execution_count": 100,
   "metadata": {},
   "outputs": [
    {
     "data": {
      "text/plain": [
       "numb     int64\n",
       "ID      object\n",
       "Vrub     int64\n",
       "Seg     object\n",
       "dtype: object"
      ]
     },
     "execution_count": 100,
     "metadata": {},
     "output_type": "execute_result"
    }
   ],
   "source": [
    "data.dtypes"
   ]
  },
  {
   "cell_type": "code",
   "execution_count": 101,
   "metadata": {},
   "outputs": [
    {
     "data": {
      "text/plain": [
       "RangeIndex(start=0, stop=1000005, step=1)"
      ]
     },
     "execution_count": 101,
     "metadata": {},
     "output_type": "execute_result"
    }
   ],
   "source": [
    "data.index"
   ]
  },
  {
   "cell_type": "code",
   "execution_count": 102,
   "metadata": {},
   "outputs": [
    {
     "data": {
      "text/html": [
       "<div>\n",
       "<style scoped>\n",
       "    .dataframe tbody tr th:only-of-type {\n",
       "        vertical-align: middle;\n",
       "    }\n",
       "\n",
       "    .dataframe tbody tr th {\n",
       "        vertical-align: top;\n",
       "    }\n",
       "\n",
       "    .dataframe thead th {\n",
       "        text-align: right;\n",
       "    }\n",
       "</style>\n",
       "<table border=\"1\" class=\"dataframe\">\n",
       "  <thead>\n",
       "    <tr style=\"text-align: right;\">\n",
       "      <th></th>\n",
       "      <th>numb</th>\n",
       "      <th>Vrub</th>\n",
       "    </tr>\n",
       "  </thead>\n",
       "  <tbody>\n",
       "    <tr>\n",
       "      <th>count</th>\n",
       "      <td>1.000005e+06</td>\n",
       "      <td>1.000005e+06</td>\n",
       "    </tr>\n",
       "    <tr>\n",
       "      <th>mean</th>\n",
       "      <td>5.000030e+05</td>\n",
       "      <td>3.000173e+05</td>\n",
       "    </tr>\n",
       "    <tr>\n",
       "      <th>std</th>\n",
       "      <td>2.886767e+05</td>\n",
       "      <td>1.732711e+05</td>\n",
       "    </tr>\n",
       "    <tr>\n",
       "      <th>min</th>\n",
       "      <td>1.000000e+00</td>\n",
       "      <td>1.000000e+00</td>\n",
       "    </tr>\n",
       "    <tr>\n",
       "      <th>25%</th>\n",
       "      <td>2.500020e+05</td>\n",
       "      <td>1.500500e+05</td>\n",
       "    </tr>\n",
       "    <tr>\n",
       "      <th>50%</th>\n",
       "      <td>5.000030e+05</td>\n",
       "      <td>2.997000e+05</td>\n",
       "    </tr>\n",
       "    <tr>\n",
       "      <th>75%</th>\n",
       "      <td>7.500040e+05</td>\n",
       "      <td>4.502240e+05</td>\n",
       "    </tr>\n",
       "    <tr>\n",
       "      <th>max</th>\n",
       "      <td>1.000005e+06</td>\n",
       "      <td>6.000000e+05</td>\n",
       "    </tr>\n",
       "  </tbody>\n",
       "</table>\n",
       "</div>"
      ],
      "text/plain": [
       "               numb          Vrub\n",
       "count  1.000005e+06  1.000005e+06\n",
       "mean   5.000030e+05  3.000173e+05\n",
       "std    2.886767e+05  1.732711e+05\n",
       "min    1.000000e+00  1.000000e+00\n",
       "25%    2.500020e+05  1.500500e+05\n",
       "50%    5.000030e+05  2.997000e+05\n",
       "75%    7.500040e+05  4.502240e+05\n",
       "max    1.000005e+06  6.000000e+05"
      ]
     },
     "execution_count": 102,
     "metadata": {},
     "output_type": "execute_result"
    }
   ],
   "source": [
    "data.describe()"
   ]
  },
  {
   "cell_type": "code",
   "execution_count": 103,
   "metadata": {
    "scrolled": true
   },
   "outputs": [
    {
     "data": {
      "text/plain": [
       "numb    1000005\n",
       "ID      1000005\n",
       "Vrub    1000005\n",
       "Seg     1000005\n",
       "dtype: int64"
      ]
     },
     "execution_count": 103,
     "metadata": {},
     "output_type": "execute_result"
    }
   ],
   "source": [
    "data.count()"
   ]
  },
  {
   "cell_type": "code",
   "execution_count": 105,
   "metadata": {},
   "outputs": [
    {
     "data": {
      "text/plain": [
       "Seg\n",
       "AF    500053\n",
       "R     499939\n",
       "Name: ID, dtype: int64"
      ]
     },
     "execution_count": 105,
     "metadata": {},
     "output_type": "execute_result"
    }
   ],
   "source": [
    "# Подсчитает количество клиентов для каждого из сегментов, совершавших транзакции (исключает дубликаты по ID). \n",
    "data.groupby('Seg')['ID'].nunique()"
   ]
  },
  {
   "cell_type": "code",
   "execution_count": 106,
   "metadata": {},
   "outputs": [
    {
     "data": {
      "text/html": [
       "<div>\n",
       "<style scoped>\n",
       "    .dataframe tbody tr th:only-of-type {\n",
       "        vertical-align: middle;\n",
       "    }\n",
       "\n",
       "    .dataframe tbody tr th {\n",
       "        vertical-align: top;\n",
       "    }\n",
       "\n",
       "    .dataframe thead th {\n",
       "        text-align: right;\n",
       "    }\n",
       "</style>\n",
       "<table border=\"1\" class=\"dataframe\">\n",
       "  <thead>\n",
       "    <tr style=\"text-align: right;\">\n",
       "      <th></th>\n",
       "      <th>Vrub</th>\n",
       "    </tr>\n",
       "    <tr>\n",
       "      <th>Seg</th>\n",
       "      <th></th>\n",
       "    </tr>\n",
       "  </thead>\n",
       "  <tbody>\n",
       "    <tr>\n",
       "      <th>AF</th>\n",
       "      <td>300082.657218</td>\n",
       "    </tr>\n",
       "    <tr>\n",
       "      <th>R</th>\n",
       "      <td>299951.940986</td>\n",
       "    </tr>\n",
       "  </tbody>\n",
       "</table>\n",
       "</div>"
      ],
      "text/plain": [
       "              Vrub\n",
       "Seg               \n",
       "AF   300082.657218\n",
       "R    299951.940986"
      ]
     },
     "execution_count": 106,
     "metadata": {},
     "output_type": "execute_result"
    }
   ],
   "source": [
    "# Подсчитает средний объем отдельной транзакции в каждом из сегментов. \n",
    "data.groupby('Seg').mean()[['Vrub']]"
   ]
  },
  {
   "cell_type": "code",
   "execution_count": 107,
   "metadata": {},
   "outputs": [
    {
     "data": {
      "text/html": [
       "<div>\n",
       "<style scoped>\n",
       "    .dataframe tbody tr th:only-of-type {\n",
       "        vertical-align: middle;\n",
       "    }\n",
       "\n",
       "    .dataframe tbody tr th {\n",
       "        vertical-align: top;\n",
       "    }\n",
       "\n",
       "    .dataframe thead th {\n",
       "        text-align: right;\n",
       "    }\n",
       "</style>\n",
       "<table border=\"1\" class=\"dataframe\">\n",
       "  <thead>\n",
       "    <tr style=\"text-align: right;\">\n",
       "      <th></th>\n",
       "      <th>Vrub</th>\n",
       "    </tr>\n",
       "    <tr>\n",
       "      <th>Seg</th>\n",
       "      <th></th>\n",
       "    </tr>\n",
       "  </thead>\n",
       "  <tbody>\n",
       "    <tr>\n",
       "      <th>AF</th>\n",
       "      <td>299832.5</td>\n",
       "    </tr>\n",
       "    <tr>\n",
       "      <th>R</th>\n",
       "      <td>299547.0</td>\n",
       "    </tr>\n",
       "  </tbody>\n",
       "</table>\n",
       "</div>"
      ],
      "text/plain": [
       "         Vrub\n",
       "Seg          \n",
       "AF   299832.5\n",
       "R    299547.0"
      ]
     },
     "execution_count": 107,
     "metadata": {},
     "output_type": "execute_result"
    }
   ],
   "source": [
    "# Медиана\n",
    "data.groupby('Seg').median()[['Vrub']]"
   ]
  },
  {
   "cell_type": "code",
   "execution_count": 108,
   "metadata": {},
   "outputs": [
    {
     "data": {
      "text/plain": [
       "array([[300785.],\n",
       "       [300654.]])"
      ]
     },
     "execution_count": 108,
     "metadata": {},
     "output_type": "execute_result"
    }
   ],
   "source": [
    "sci.stats.poisson.ppf(0.9, data.groupby('Seg').mean()[['Vrub']])"
   ]
  },
  {
   "cell_type": "code",
   "execution_count": 109,
   "metadata": {},
   "outputs": [
    {
     "data": {
      "text/html": [
       "<div>\n",
       "<style scoped>\n",
       "    .dataframe tbody tr th:only-of-type {\n",
       "        vertical-align: middle;\n",
       "    }\n",
       "\n",
       "    .dataframe tbody tr th {\n",
       "        vertical-align: top;\n",
       "    }\n",
       "\n",
       "    .dataframe thead tr th {\n",
       "        text-align: left;\n",
       "    }\n",
       "\n",
       "    .dataframe thead tr:last-of-type th {\n",
       "        text-align: right;\n",
       "    }\n",
       "</style>\n",
       "<table border=\"1\" class=\"dataframe\">\n",
       "  <thead>\n",
       "    <tr>\n",
       "      <th></th>\n",
       "      <th colspan=\"8\" halign=\"left\">Vrub</th>\n",
       "    </tr>\n",
       "    <tr>\n",
       "      <th></th>\n",
       "      <th>count</th>\n",
       "      <th>mean</th>\n",
       "      <th>std</th>\n",
       "      <th>min</th>\n",
       "      <th>25%</th>\n",
       "      <th>50%</th>\n",
       "      <th>75%</th>\n",
       "      <th>max</th>\n",
       "    </tr>\n",
       "    <tr>\n",
       "      <th>Seg</th>\n",
       "      <th></th>\n",
       "      <th></th>\n",
       "      <th></th>\n",
       "      <th></th>\n",
       "      <th></th>\n",
       "      <th></th>\n",
       "      <th></th>\n",
       "      <th></th>\n",
       "    </tr>\n",
       "  </thead>\n",
       "  <tbody>\n",
       "    <tr>\n",
       "      <th>AF</th>\n",
       "      <td>500058.0</td>\n",
       "      <td>300082.657218</td>\n",
       "      <td>173335.072890</td>\n",
       "      <td>1.0</td>\n",
       "      <td>149968.0</td>\n",
       "      <td>299832.5</td>\n",
       "      <td>450561.5</td>\n",
       "      <td>600000.0</td>\n",
       "    </tr>\n",
       "    <tr>\n",
       "      <th>R</th>\n",
       "      <td>499947.0</td>\n",
       "      <td>299951.940986</td>\n",
       "      <td>173207.207125</td>\n",
       "      <td>1.0</td>\n",
       "      <td>150123.5</td>\n",
       "      <td>299547.0</td>\n",
       "      <td>449848.0</td>\n",
       "      <td>600000.0</td>\n",
       "    </tr>\n",
       "  </tbody>\n",
       "</table>\n",
       "</div>"
      ],
      "text/plain": [
       "         Vrub                                                         \\\n",
       "        count           mean            std  min       25%       50%   \n",
       "Seg                                                                    \n",
       "AF   500058.0  300082.657218  173335.072890  1.0  149968.0  299832.5   \n",
       "R    499947.0  299951.940986  173207.207125  1.0  150123.5  299547.0   \n",
       "\n",
       "                         \n",
       "          75%       max  \n",
       "Seg                      \n",
       "AF   450561.5  600000.0  \n",
       "R    449848.0  600000.0  "
      ]
     },
     "execution_count": 109,
     "metadata": {},
     "output_type": "execute_result"
    }
   ],
   "source": [
    "data.groupby('Seg').describe()[['Vrub']]"
   ]
  },
  {
   "cell_type": "code",
   "execution_count": 110,
   "metadata": {},
   "outputs": [],
   "source": [
    "# Создадам массивы с данными об объеме транзакций для каждого из двух сегментов (для упрощения в дальнейшем анализе):\n",
    "from array import *\n",
    "SegmR = data['Seg'] == 'R'\n",
    "SegmAF = data['Seg'] == 'AF'\n",
    "VrubR = data['Vrub'] > 0\n",
    "VrubAF = data['Vrub'] > 0\n",
    "arrR = array('i', data.loc[VrubR & SegmR]['Vrub']) # Массив объема транзакций сегмента 'R'\n",
    "arrAF = array('i', data.loc[VrubAF & SegmAF]['Vrub']) # Массив объема транзакций сегмента 'AF'"
   ]
  },
  {
   "cell_type": "code",
   "execution_count": 111,
   "metadata": {},
   "outputs": [
    {
     "name": "stdout",
     "output_type": "stream",
     "text": [
      "1 600000\n",
      "1 600000\n"
     ]
    }
   ],
   "source": [
    "# Max & Min для двух сегментов\n",
    "min_priceR = min(arrR)\n",
    "max_priceR = max(arrR)\n",
    "min_priceAF = min(arrAF)\n",
    "max_priceAF = max(arrAF)\n",
    "print(min_priceR, max_priceR)\n",
    "print(min_priceAF, max_priceAF)"
   ]
  },
  {
   "cell_type": "code",
   "execution_count": 112,
   "metadata": {},
   "outputs": [
    {
     "name": "stdout",
     "output_type": "stream",
     "text": [
      "599999\n",
      "599999\n"
     ]
    }
   ],
   "source": [
    "# Размах: max-min для двух сегментов\n",
    "price_rangeR = max_priceR - min_priceR\n",
    "print(price_rangeR)\n",
    "price_rangeAF = max_priceAF - min_priceAF\n",
    "print(price_rangeAF)"
   ]
  },
  {
   "cell_type": "code",
   "execution_count": 113,
   "metadata": {},
   "outputs": [
    {
     "name": "stdout",
     "output_type": "stream",
     "text": [
      "173207.03389914546\n",
      "173334.89957525622\n"
     ]
    }
   ],
   "source": [
    "# Стандартные отклонения для двух сегментов:\n",
    "print(nump.std(arrR))\n",
    "print(nump.std(arrAF))"
   ]
  },
  {
   "cell_type": "code",
   "execution_count": 114,
   "metadata": {},
   "outputs": [],
   "source": [
    "# Функция построения доверительного интервала (в 90%) для среднего объема транзакций в сегментах:\n",
    "def dov_int(arr, alpha=0.9):\n",
    "    n = len(arr)\n",
    "    mu, se = nump.mean(arr), stats.sem(arr)\n",
    "    bound = se * stats.t.ppf((1+alpha)/2., n-1)\n",
    "    return mu-bound, mu+bound"
   ]
  },
  {
   "cell_type": "code",
   "execution_count": 115,
   "metadata": {},
   "outputs": [
    {
     "name": "stdout",
     "output_type": "stream",
     "text": [
      "(299549.00872812414, 300354.8732433648)\n"
     ]
    }
   ],
   "source": [
    "# 90% доверительный интервал для среднего объема транзакций сегмента 'R'\n",
    "ci = dov_int(arrR, alpha=0.9)\n",
    "print(ci)"
   ]
  },
  {
   "cell_type": "code",
   "execution_count": 116,
   "metadata": {},
   "outputs": [
    {
     "name": "stdout",
     "output_type": "stream",
     "text": [
      "(299679.47226172354, 300485.8421738019)\n"
     ]
    }
   ],
   "source": [
    "# 90% доверительный интервал для среднего объема транзакций сегмента 'AF'\n",
    "ci = dov_int(arrAF, alpha=0.9)\n",
    "print(ci)"
   ]
  },
  {
   "cell_type": "code",
   "execution_count": 117,
   "metadata": {},
   "outputs": [
    {
     "data": {
      "text/plain": [
       "Ttest_indResult(statistic=-0.3772022961980673, pvalue=0.7060233540434788)"
      ]
     },
     "execution_count": 117,
     "metadata": {},
     "output_type": "execute_result"
    }
   ],
   "source": [
    "# Строим t-статистику по двум выборкам (параметра 'объем транзакции (в рублях)' для каждого сегмента)\n",
    "# Уровень значимости = 10% (по условию)\n",
    "# Нулевая гипотеза - что средние объемы транзакций в каждом из двух сегментах равны.\n",
    "stats.ttest_ind(arrR, arrAF)"
   ]
  },
  {
   "cell_type": "code",
   "execution_count": null,
   "metadata": {},
   "outputs": [],
   "source": [
    "# Результат - По выведенному значению p-value, мы НЕ можем опровергнуть нулевую (искомую) гипотезу."
   ]
  }
 ],
 "metadata": {
  "kernelspec": {
   "display_name": "Python 3",
   "language": "python",
   "name": "python3"
  },
  "language_info": {
   "codemirror_mode": {
    "name": "ipython",
    "version": 3
   },
   "file_extension": ".py",
   "mimetype": "text/x-python",
   "name": "python",
   "nbconvert_exporter": "python",
   "pygments_lexer": "ipython3",
   "version": "3.7.1"
  }
 },
 "nbformat": 4,
 "nbformat_minor": 2
}
